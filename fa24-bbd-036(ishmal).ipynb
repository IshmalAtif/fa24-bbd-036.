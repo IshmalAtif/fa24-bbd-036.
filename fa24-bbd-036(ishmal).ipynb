{
 "cells": [
  {
   "cell_type": "markdown",
   "id": "81a365e3",
   "metadata": {},
   "source": [
    "# Classes in Python: A Comprehensive Guide\n",
    "\n",
    "## Introduction\n",
    "### In Python, classes are a fundamental building block for object-oriented programming (OOP). OOP is a programming paradigm that uses objects and classes to model real-world scenarios. They allow you to create user-defined data structures that encapsulate both data (attributes) and behavior (methods). This encapsulation promotes code reusability, modularity, and maintainability."
   ]
  },
  {
   "cell_type": "markdown",
   "id": "0a0d6649",
   "metadata": {},
   "source": [
    "## Key Concepts\n",
    "### Class: A blueprint for creating objects. It defines the attributes and methods that objects of that class will possess.\n",
    "### Object: An instance of a class. It has its own unique set of attribute values.\n",
    "### Attributes: Variables that store data associated with an object.\n",
    "### Methods: Functions that operate on the object's data.\n",
    "### Constructor: A special method called __init__ that is automatically invoked when an object is created. It initializes the object's attributes.\n",
    "## Creating a Class and Object"
   ]
  },
  {
   "cell_type": "code",
   "execution_count": 13,
   "id": "0239378a",
   "metadata": {},
   "outputs": [
    {
     "name": "stdout",
     "output_type": "stream",
     "text": [
      "Buddy\n",
      "Buddy barks!\n"
     ]
    }
   ],
   "source": [
    "class Dog:\n",
    "    def __init__(self, name, breed):\n",
    "        self.name = name\n",
    "        self.breed = breed\n",
    "\n",
    "    def bark(self):\n",
    "        print(f\"{self.name} barks!\")\n",
    "\n",
    "# Create an object of the Dog class\n",
    "my_dog = Dog(\"Buddy\", \"Golden Retriever\")\n",
    "\n",
    "# Access attributes and call methods\n",
    "print(my_dog.name)  # Output: Buddy\n",
    "my_dog.bark()  # Output: Buddy barks!"
   ]
  },
  {
   "cell_type": "markdown",
   "id": "db04f438",
   "metadata": {},
   "source": [
    "## Inheritance\n",
    "### Inheritance allows you to create new classes (child classes) that inherit attributes and methods from existing classes (parent classes). This promotes code reuse and hierarchical relationships between classes."
   ]
  },
  {
   "cell_type": "markdown",
   "id": "d76e9927",
   "metadata": {},
   "source": [
    "## Encapsulation\n",
    "### Encapsulation is the practice of hiding the internal implementation details of a class from the outside world. This promotes code modularity and prevents unintended modifications."
   ]
  },
  {
   "cell_type": "code",
   "execution_count": 16,
   "id": "788a14d6",
   "metadata": {},
   "outputs": [],
   "source": [
    "class BankAccount:\n",
    "    def __init__(self, balance):\n",
    "        self.__balance = balance  # Private attribute\n",
    "\n",
    "    def deposit(self, amount):\n",
    "        self.__balance += amount\n",
    "\n",
    "    def withdraw(self, amount):\n",
    "        if self.__balance >= amount:\n",
    "            self.__balance -= amount\n",
    "        else:\n",
    "            print(\"Insufficient funds.\")\n",
    "\n",
    "    def get_balance(self):\n",
    "        return self.__balance"
   ]
  },
  {
   "cell_type": "markdown",
   "id": "99ec9b48",
   "metadata": {},
   "source": [
    "## Practice Exercises\n",
    "\n",
    "### 1. Create a class Person with attributes name, age, and city.\n",
    "### 2. Create a class Car with attributes make, model, and year.\n",
    "### 3. Create a class Circle with attributes radius and methods to calculate area and circumference.\n",
    "### 4. Create a class Rectangle with attributes length and width and methods to calculate area and perimeter.\n",
    "### 5. Create a class Student with attributes name, roll_number, and marks. Implement a method to calculate the average marks.\n",
    "### 6. Create a class Book with attributes title, author, and publication_year.\n",
    "### 7. Create a class Employee with attributes name, salary, and designation.\n",
    "### 8. Create a class Bank with attributes name, account_number, and balance. Implement methods to deposit and withdraw money.\n",
    "### 9. Create a class Shape with a method to calculate area. Create subclasses Circle, Rectangle, and Triangle that inherit from Shape and implement their specific area calculations.\n",
    "### 10. Create a class Animal with attributes name and sound. Create subclasses Dog, Cat, and Cow that inherit from Animal and implement their specific sounds.\n",
    "\n",
    "## Additional Tips\n",
    "### Use meaningful names for classes, attributes, and methods.\n",
    "### Write clear and concise code.\n",
    "### Use comments to explain complex logic.\n",
    "### Test your code thoroughly.\n",
    "### Consider using inheritance to avoid code duplication.\n",
    "### Encapsulate data to protect it from accidental modification.\n",
    "### Use polymorphism to create flexible and adaptable code."
   ]
  },
  {
   "cell_type": "code",
   "execution_count": 18,
   "id": "cae0ab42",
   "metadata": {},
   "outputs": [
    {
     "name": "stdout",
     "output_type": "stream",
     "text": [
      "Ishmal\n",
      "18\n",
      "Gujranwala\n"
     ]
    }
   ],
   "source": [
    " class Person:                                  #person is object\n",
    "    def __init__(self, name, age, city):       #name, age and city are attributes\n",
    "      self.name = name\n",
    "      self.age = age\n",
    "      self.city = city\n",
    "the_person = Person(\"Ishmal\", 18, \"Gujranwala\")\n",
    "print (the_person.name)\n",
    "print (the_person.age)\n",
    "print (the_person.city)"
   ]
  },
  {
   "cell_type": "code",
   "execution_count": 19,
   "id": "53d36c52-b6dd-4ee7-9431-77696beaca07",
   "metadata": {},
   "outputs": [
    {
     "name": "stdout",
     "output_type": "stream",
     "text": [
      "Toyota corolla\n",
      "Grande X\n",
      "2022\n"
     ]
    }
   ],
   "source": [
    " class Car:                                         #car is object\n",
    "    def __init__(self, company, model, year):      #cmpany, model and year are attributes\n",
    "      self.company = company\n",
    "      self.model = model\n",
    "      self.year = year\n",
    "the_car = Car(\"Toyota corolla\", \"Grande X\", 2022)\n",
    "print (the_car.company)\n",
    "print (the_car.model)\n",
    "print (the_car.year)"
   ]
  },
  {
   "cell_type": "code",
   "execution_count": 20,
   "id": "1fa413dd-ab24-4071-bb10-04328cf7eaed",
   "metadata": {},
   "outputs": [
    {
     "name": "stdout",
     "output_type": "stream",
     "text": [
      "Bilal is walking.\n",
      "Bilal is eating.\n"
     ]
    }
   ],
   "source": [
    "class Human:\n",
    "    def __init__(self , name):\n",
    "        self.name = name\n",
    "    def walk(self):\n",
    "         print(f\"{self.name} is walking.\")\n",
    "class Person(Human):\n",
    "    def eat(self):\n",
    "        print(f\"{self.name} is eating.\")\n",
    "the_person = Person(\"Bilal\")\n",
    "the_person.walk()\n",
    "the_person.eat()"
   ]
  },
  {
   "cell_type": "code",
   "execution_count": 31,
   "id": "9828c95c-e791-4f9a-bfed-9b1c6a922f5b",
   "metadata": {},
   "outputs": [
    {
     "name": "stdout",
     "output_type": "stream",
     "text": [
      "area:  78.539816\n",
      "area:  31.415927\n"
     ]
    }
   ],
   "source": [
    "import math\n",
    "class Circle:\n",
    "    def __init__(self, radius):\n",
    "        self.radius = radius\n",
    "    def area(self):\n",
    "        return math.pi* self.radius**2\n",
    "    def circumference(self):\n",
    "        return 2 *math.pi* self.radius\n",
    "\n",
    "Circle = Circle(5)\n",
    "print(f\"area: {Circle.area(): 2f}\")\n",
    "print(f\"area: {Circle.circumference(): 2f}\")"
   ]
  },
  {
   "cell_type": "code",
   "execution_count": 39,
   "id": "594330ed-b29f-4bf7-8485-92a83ef4ea4d",
   "metadata": {},
   "outputs": [
    {
     "name": "stdout",
     "output_type": "stream",
     "text": [
      "area: 15\n",
      "perimeter: 16\n"
     ]
    }
   ],
   "source": [
    "import math\n",
    "class Rectangle:\n",
    "    def __init__(self, length, width):\n",
    "        self.length = length\n",
    "        self.width = width\n",
    "    def area(self):\n",
    "        return self.length * self.width\n",
    "    def perimeter(self):\n",
    "        return 2*(self.length+self.width)\n",
    "rect = Rectangle(5, 3)\n",
    "print(f\"area: {rect.area()}\")\n",
    "print(f\"perimeter: {rect.perimeter()}\")"
   ]
  },
  {
   "cell_type": "code",
   "execution_count": 23,
   "id": "f7de55f0-c81d-4082-9a8b-8e3528290ea9",
   "metadata": {},
   "outputs": [
    {
     "name": "stdout",
     "output_type": "stream",
     "text": [
      "Shehrin's average_marks: 73.75\n",
      "maheen's average_marks: 77.5\n",
      "Ishmal's average_marks: 45.5\n"
     ]
    }
   ],
   "source": [
    "class student:\n",
    "    def __init__(self, name, rollno , marks):\n",
    "      self.name = name\n",
    "      self.rollno = rollno\n",
    "      self.marks = marks\n",
    "    def average_marks(self):\n",
    "      if len(self.marks) == 0:\n",
    "          self.average_marks == 0\n",
    "      else:\n",
    "          self.average_marks = sum(self.marks) / len(self.marks)\n",
    "student1 = student(\"Shehrin\", 82, [98, 66, 56, 75])\n",
    "student2 = student (\"maheen\", 40, [88, 83, 64, 75])\n",
    "student3 = student (\"Ishmal\", 36, [44,32,19,87])\n",
    "student1.average_marks()\n",
    "student2.average_marks()\n",
    "student3.average_marks()\n",
    "print(f\"{student1.name}'s average_marks: {student1.average_marks}\")\n",
    "print(f\"{student2.name}'s average_marks: {student2.average_marks}\")\n",
    "print(f\"{student3.name}'s average_marks: {student3.average_marks}\")"
   ]
  },
  {
   "cell_type": "code",
   "execution_count": 27,
   "id": "ef93d718-0f33-4612-b0bc-46deae00caab",
   "metadata": {},
   "outputs": [
    {
     "name": "stdout",
     "output_type": "stream",
     "text": [
      "The mountain is you\n",
      "Brianna west\n",
      "2012\n"
     ]
    }
   ],
   "source": [
    "class book:\n",
    "    def __init__(self, title, author, publication_year):\n",
    "        self.title = title\n",
    "        self.author = author\n",
    "        self.publication_year = publication_year\n",
    "the_book= book(\"The mountain is you\", \"Brianna west\", 2012)\n",
    "print(the_book.title)\n",
    "print(the_book.author)\n",
    "print(the_book.publication_year)"
   ]
  },
  {
   "cell_type": "code",
   "execution_count": 29,
   "id": "69d22a02-5412-499a-b1c0-4f64b216d90e",
   "metadata": {},
   "outputs": [
    {
     "name": "stdout",
     "output_type": "stream",
     "text": [
      "Shehrin\n",
      "Rs.2500\n",
      "Kaam wali maasi\n"
     ]
    }
   ],
   "source": [
    "class employee:\n",
    "    def __init__(self, name, salary, designation):\n",
    "        self.name = name\n",
    "        self.salary = salary\n",
    "        self.designation = designation\n",
    "the_employee = employee(\"Shehrin\" , \"Rs.2500\", \"Kaam wali maasi\")\n",
    "print(the_employee.name)\n",
    "print(the_employee.salary)\n",
    "print(the_employee.designation)"
   ]
  },
  {
   "cell_type": "code",
   "execution_count": 31,
   "id": "70d6083b-2dbd-4ceb-a37c-c9c1d1011397",
   "metadata": {},
   "outputs": [
    {
     "name": "stdout",
     "output_type": "stream",
     "text": [
      "Deposited 20760. New balance is 520760.\n",
      "Deposited 500000. New balance is 1500000.\n",
      "Withdrew 1000. New balance is 519760.\n",
      "Withdrew 1675. New balance is 1498325.\n",
      "Withdrew 12345. New balance is 1485980.\n"
     ]
    }
   ],
   "source": [
    "class Bank:\n",
    "    def __init__(self, name, account_number, balance=0):\n",
    "        self.name = name\n",
    "        self.account_number = account_number\n",
    "        self.balance = balance\n",
    "\n",
    "    def deposit(self, amount):\n",
    "        if amount > 0:\n",
    "            self.balance += amount\n",
    "            print(f\"Deposited {amount}. New balance is {self.balance}.\")\n",
    "        else:\n",
    "            print(\"Deposit amount must be positive\")\n",
    "\n",
    "    def withdraw(self, amount):\n",
    "        if amount <= 0:\n",
    "            print(\"Withdrawal amount must be positive\")\n",
    "        elif amount > self.balance:\n",
    "            print(\"Insufficient funds\")\n",
    "        else:\n",
    "            self.balance -= amount\n",
    "            print(f\"Withdrew {amount}. New balance is {self.balance}.\")\n",
    "\n",
    "# Example usage:\n",
    "account1 = Bank(\"Shehrin\", \"123456789\", 500000)\n",
    "account2 = Bank(\"Maheen\", \"987654321\", 1000000)\n",
    "\n",
    "account1.deposit(20760)  \n",
    "account2.deposit(500000)   \n",
    "\n",
    "account1.withdraw(1000)  \n",
    "account2.withdraw(1675) \n",
    "account2.withdraw(12345)  \n"
   ]
  },
  {
   "cell_type": "code",
   "execution_count": null,
   "id": "dae253e4-b1a7-4afd-9ab1-d08ed0f7478d",
   "metadata": {},
   "outputs": [],
   "source": []
  }
 ],
 "metadata": {
  "kernelspec": {
   "display_name": "Python 3 (ipykernel)",
   "language": "python",
   "name": "python3"
  },
  "language_info": {
   "codemirror_mode": {
    "name": "ipython",
    "version": 3
   },
   "file_extension": ".py",
   "mimetype": "text/x-python",
   "name": "python",
   "nbconvert_exporter": "python",
   "pygments_lexer": "ipython3",
   "version": "3.12.4"
  }
 },
 "nbformat": 4,
 "nbformat_minor": 5
}
